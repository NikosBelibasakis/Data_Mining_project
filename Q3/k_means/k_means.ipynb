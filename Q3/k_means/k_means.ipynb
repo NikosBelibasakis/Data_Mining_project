import pandas as pd
import numpy as np
import matplotlib.pyplot as plt
from sklearn.cluster import KMeans

# Open the CSV (new_data2) file
data = pd.read_csv('new_data2.csv')

# We get all the attributes except the 'id' (the last one)
X = data.iloc[:, :-1]  

# We calculate the Inertia (Total Dispersion) for various numbers of clusters to find the optimal number with the elbow method
inertia = []
num_clusters = range(1, 6)  

for k in num_clusters:
    kmeans = KMeans(n_clusters=k)
    kmeans.fit(X)
    inertia.append(kmeans.inertia_)

# The figure for the elbow method
plt.figure(figsize=(10, 6))
plt.plot(num_clusters, inertia, marker='o')
plt.xlabel('Number of Clusters')
plt.ylabel('Inertia')
plt.xticks(np.arange(1, 6, 1))
plt.grid(True)
plt.show()

# We execute the k-means algorithm
kmeans = KMeans(n_clusters=3, random_state=7) 
kmeans.fit(X)

# Print the clusters' centers
print("Cluster centers:")
print(kmeans.cluster_centers_)

# Print the cluster that each participant (new_data2 record) belongs to
print("Cluster assignments:")
print(kmeans.labels_)

# Print the total inertia of the final model
print("Total Inertia (Dispersion) of the final model:")
print(f'{kmeans.inertia_:.3f}')

# Print the model's total number of iterations 
print("Number of iterations:")
print(kmeans.n_iter_)