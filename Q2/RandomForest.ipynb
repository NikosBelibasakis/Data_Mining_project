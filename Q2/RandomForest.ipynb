{
 "cells": [
  {
   "cell_type": "code",
   "execution_count": 1,
   "id": "6759ff3f-958e-4cfd-9242-95708dc06324",
   "metadata": {},
   "outputs": [],
   "source": [
    "# Import necessary libraries\n",
    "import os\n",
    "import glob\n",
    "import pandas as pd\n",
    "from sklearn.model_selection import train_test_split\n",
    "from sklearn.ensemble import RandomForestClassifier\n",
    "from sklearn.metrics import accuracy_score, classification_report"
   ]
  },
  {
   "cell_type": "code",
   "execution_count": 2,
   "id": "7e1aad3a-64dd-4aff-bf06-6bb0e584920d",
   "metadata": {},
   "outputs": [],
   "source": [
    "#assuming we are in Q2 directory , we go to the parent folder\n",
    "folder_path = os.path.join('..', 'new_data')\n",
    "\n",
    "# Get all the CSV files from the folder\n",
    "csv_files = glob.glob(folder_path + '/*.csv')\n",
    "\n",
    "all_data=[]\n",
    "# Load each CSV file in one dataframe\n",
    "for idx,csv_file in enumerate(csv_files):\n",
    "    # Load the CSV file into a dataframe\n",
    "    df = pd.read_csv(csv_file)\n",
    "    \n",
    "    # Append the DataFrame to the list\n",
    "    all_data.append(df)\n",
    "\n",
    "# Combine all data into a single DataFrame\n",
    "combined_data = pd.concat(all_data)\n"
   ]
  },
  {
   "cell_type": "code",
   "execution_count": null,
   "id": "cefbdd50-215e-4172-826e-06cab6f4ee2a",
   "metadata": {},
   "outputs": [],
   "source": []
  }
 ],
 "metadata": {
  "kernelspec": {
   "display_name": "Python 3 (ipykernel)",
   "language": "python",
   "name": "python3"
  },
  "language_info": {
   "codemirror_mode": {
    "name": "ipython",
    "version": 3
   },
   "file_extension": ".py",
   "mimetype": "text/x-python",
   "name": "python",
   "nbconvert_exporter": "python",
   "pygments_lexer": "ipython3",
   "version": "3.10.12"
  }
 },
 "nbformat": 4,
 "nbformat_minor": 5
}
