{
 "cells": [
  {
   "cell_type": "code",
   "execution_count": 1,
   "id": "6759ff3f-958e-4cfd-9242-95708dc06324",
   "metadata": {},
   "outputs": [],
   "source": [
    "# Import necessary libraries\n",
    "import os\n",
    "import glob\n",
    "import time\n",
    "import pandas as pd\n",
    "from sklearn.model_selection import train_test_split, GridSearchCV, cross_val_score\n",
    "from sklearn.ensemble import RandomForestClassifier\n",
    "from sklearn.metrics import accuracy_score, classification_report, confusion_matrix\n",
    "import numpy as np"
   ]
  },
  {
   "cell_type": "code",
   "execution_count": 2,
   "id": "7e1aad3a-64dd-4aff-bf06-6bb0e584920d",
   "metadata": {},
   "outputs": [],
   "source": [
    "#assuming we are in Q2 directory , we go to the parent folder\n",
    "folder_path = os.path.join('..', 'new_data')\n",
    "\n",
    "# Get all the CSV files from the folder\n",
    "csv_files = glob.glob(folder_path + '/*.csv')\n",
    "\n",
    "all_data=[]\n",
    "# Load each CSV file in one dataframe\n",
    "for idx,csv_file in enumerate(csv_files):\n",
    "    # Load the CSV file into a dataframe\n",
    "    df = pd.read_csv(csv_file)\n",
    "    \n",
    "    # Append the DataFrame to the list\n",
    "    all_data.append(df)\n",
    "\n",
    "# Combine all data into a single DataFrame\n",
    "combined_data = pd.concat(all_data)\n",
    "#combined_data=combined_data.iloc[::10]"
   ]
  },
  {
   "cell_type": "code",
   "execution_count": 3,
   "id": "cefbdd50-215e-4172-826e-06cab6f4ee2a",
   "metadata": {},
   "outputs": [],
   "source": [
    "# Create lag features\n",
    "combined_data['Activity_Lag'] = combined_data['label'].shift(1)\n",
    "\n",
    "# Drop rows with NaN values resulting from the shift\n",
    "combined_data.dropna(inplace=True) #drops 1 first rows of data\n",
    "\n",
    "# Select relevant features and target variable\n",
    "features = combined_data.drop(['label', 'timestamp'], axis=1).values\n",
    "target = combined_data['label'].values\n",
    "\n",
    "# Split the dataset into training and testing sets\n",
    "X_train, X_test, y_train, y_test = train_test_split(features, target, test_size=0.2, random_state=42)\n",
    " "
   ]
  },
  {
   "cell_type": "code",
   "execution_count": 4,
   "id": "b4b9af21-c7e5-4829-a26a-d4c0e5772198",
   "metadata": {},
   "outputs": [
    {
     "name": "stdout",
     "output_type": "stream",
     "text": [
      "Training completed in : 45.14632534980774\n",
      "Prediction completed in: 0.7745904922485352\n"
     ]
    }
   ],
   "source": [
    "# Create a Random Forest Classifier\n",
    "rf_classifier = RandomForestClassifier(n_estimators=100, random_state=42, n_jobs=-1)\n",
    "\n",
    "start=time.time() #start time of the training\n",
    "\n",
    "# Train the classifier\n",
    "rf_classifier.fit(X_train, y_train)\n",
    "\n",
    "end=time.time() #calculating time\n",
    "print(f'Training completed in : {end-start}')\n",
    "\n",
    "# Make predictions on the test set\n",
    "y_pred = rf_classifier.predict(X_test)\n",
    "print(f'Prediction completed in: {time.time()-end}') "
   ]
  },
  {
   "cell_type": "code",
   "execution_count": 5,
   "id": "bf26553c-e57a-474d-9e91-ddef0fc9ee59",
   "metadata": {},
   "outputs": [
    {
     "name": "stdout",
     "output_type": "stream",
     "text": [
      "Accuracy: 0.99\n",
      "\n",
      "Classification Report:\n",
      "               precision    recall  f1-score   support\n",
      "\n",
      "           0       0.99      0.99      0.99     24235\n",
      "           1       1.00      1.00      1.00      5758\n",
      "           2       0.90      0.90      0.90      5057\n",
      "           3       0.97      0.97      0.97      1533\n",
      "           4       0.95      0.96      0.96      1381\n",
      "           5       0.97      0.97      0.97     14826\n",
      "           6       1.00      1.00      1.00     57972\n",
      "           7       1.00      1.00      1.00      8523\n",
      "           8       1.00      1.00      1.00      7848\n",
      "           9       0.99      0.99      0.99      1105\n",
      "          10       0.97      0.98      0.98       841\n",
      "          11       1.00      0.98      0.99       150\n",
      "\n",
      "    accuracy                           0.99    129229\n",
      "   macro avg       0.98      0.98      0.98    129229\n",
      "weighted avg       0.99      0.99      0.99    129229\n",
      "\n",
      "Confusion Matrix:\n",
      "[[23936     8   127    25    39    83    14     1     2     0     0     0]\n",
      " [   11  5743     3     0     0     1     0     0     0     0     0     0]\n",
      " [  136     8  4551    18    19   314     8     0     2     1     0     0]\n",
      " [   23     2    19  1487     1     1     0     0     0     0     0     0]\n",
      " [   38     0    15     0  1328     0     0     0     0     0     0     0]\n",
      " [   75     1   313     2    10 14421     2     1     0     1     0     0]\n",
      " [    4     0     8     0     0     4 57954     2     0     0     0     0]\n",
      " [    1     2     1     0     0     1     6  8512     0     0     0     0]\n",
      " [    0     0     2     0     0     1     0     0  7815    11    19     0]\n",
      " [    0     0     0     0     0     0     0     0     9  1094     2     0]\n",
      " [    0     0     0     0     0     0     0     0    11     2   828     0]\n",
      " [    0     0     0     0     0     0     0     0     1     1     1   147]]\n"
     ]
    }
   ],
   "source": [
    "# Evaluate the model\n",
    "accuracy = accuracy_score(y_test, y_pred)\n",
    "classification_rep = classification_report(y_test, y_pred)\n",
    "\n",
    "# Print the results\n",
    "print(f\"Accuracy: {accuracy:.2f}\")\n",
    "print(\"\\nClassification Report:\\n\", classification_rep)\n",
    "print(\"Confusion Matrix:\")\n",
    "print(confusion_matrix(y_test, y_pred))"
   ]
  },
  {
   "cell_type": "code",
   "execution_count": 6,
   "id": "697d9a5a-9e1c-46f5-b3d2-cb22de768ea0",
   "metadata": {},
   "outputs": [
    {
     "name": "stdout",
     "output_type": "stream",
     "text": [
      "\n",
      "Sample 1:\n",
      "Random Sample Index: 53911\n",
      "Input Features: [[-0.8439 -0.031  -0.6563 -0.3606  0.1908  0.9126  6.    ]]\n",
      "Actual Label: 6\n",
      "Predicted Label: [6]\n",
      "\n",
      "Sample 2:\n",
      "Random Sample Index: 13818\n",
      "Input Features: [[-0.9849  0.0312 -0.063  -1.0312 -0.0625  0.0603  5.    ]]\n",
      "Actual Label: 5\n",
      "Predicted Label: [5]\n",
      "\n",
      "Sample 3:\n",
      "Random Sample Index: 4005\n",
      "Input Features: [[-1.0039  0.0157 -0.0613 -0.9123  0.0674 -0.4152  5.    ]]\n",
      "Actual Label: 5\n",
      "Predicted Label: [5]\n",
      "\n",
      "Sample 4:\n",
      "Random Sample Index: 84968\n",
      "Input Features: [[-1.0168  0.0466  0.0106 -0.9652 -0.0665 -0.2778  5.    ]]\n",
      "Actual Label: 5\n",
      "Predicted Label: [5]\n",
      "\n",
      "Sample 5:\n",
      "Random Sample Index: 78466\n",
      "Input Features: [[ 0.1982  0.8949 -0.4095 -0.1912 -0.9659  0.1659  7.    ]]\n",
      "Actual Label: 7\n",
      "Predicted Label: [7]\n",
      "\n",
      "Sample 6:\n",
      "Random Sample Index: 94934\n",
      "Input Features: [[-0.8438 -0.0251 -0.6609 -0.3443  0.2224  0.9225  6.    ]]\n",
      "Actual Label: 6\n",
      "Predicted Label: [6]\n",
      "\n",
      "Sample 7:\n",
      "Random Sample Index: 35872\n",
      "Input Features: [[-1.0065  0.0664 -0.2532 -1.2807  0.1642  0.3464  0.    ]]\n",
      "Actual Label: 0\n",
      "Predicted Label: [0]\n",
      "\n",
      "Sample 8:\n",
      "Random Sample Index: 9231\n",
      "Input Features: [[-0.9994  0.0469 -0.2847 -0.0272  0.2705  0.9637  6.    ]]\n",
      "Actual Label: 6\n",
      "Predicted Label: [6]\n",
      "\n",
      "Sample 9:\n",
      "Random Sample Index: 64155\n",
      "Input Features: [[-1.1194 -0.3679 -0.3228 -2.5759 -2.1506  0.8357  0.    ]]\n",
      "Actual Label: 0\n",
      "Predicted Label: [0]\n",
      "\n",
      "Sample 10:\n",
      "Random Sample Index: 57302\n",
      "Input Features: [[-0.4214  0.1011 -0.1421 -0.842   0.4465 -0.7188  5.    ]]\n",
      "Actual Label: 5\n",
      "Predicted Label: [5]\n"
     ]
    }
   ],
   "source": [
    "num_samples = 10\n",
    "\n",
    "# Get 10 random indices from the x_test data set\n",
    "random_indices = np.random.randint(0, len(X_test), size=num_samples)\n",
    "\n",
    "for i, random_index in enumerate(random_indices):\n",
    "    random_sample = X_test[random_index].reshape(1, -1)  # Reshape to match model's expected input shape\n",
    "    actual_label = y_test[random_index]\n",
    "    \n",
    "    # Make the prediction\n",
    "    predicted_label = rf_classifier.predict(random_sample)\n",
    "    \n",
    "    # Display the random sample and the label prediction\n",
    "    print(f'\\nSample {i+1}:')\n",
    "    print(f'Random Sample Index: {random_index}')\n",
    "    print(f'Input Features: {random_sample}')\n",
    "    print(f'Actual Label: {actual_label}')\n",
    "    print(f'Predicted Label: {predicted_label}')"
   ]
  },
  {
   "cell_type": "code",
   "execution_count": 7,
   "id": "767b19ce-adea-48a5-ba2e-0c42b8eb743f",
   "metadata": {},
   "outputs": [
    {
     "name": "stdout",
     "output_type": "stream",
     "text": [
      "0.9891103299997729\n"
     ]
    }
   ],
   "source": [
    "# 10-Fold Cross validation\n",
    "print(np.mean(cross_val_score(rf_classifier, X_train, y_train, cv=10, n_jobs=5)))"
   ]
  },
  {
   "cell_type": "code",
   "execution_count": null,
   "id": "77bfd3e4-cdbc-43e1-9a4c-c99eb2fcd5d9",
   "metadata": {},
   "outputs": [],
   "source": []
  }
 ],
 "metadata": {
  "kernelspec": {
   "display_name": "Python 3 (ipykernel)",
   "language": "python",
   "name": "python3"
  },
  "language_info": {
   "codemirror_mode": {
    "name": "ipython",
    "version": 3
   },
   "file_extension": ".py",
   "mimetype": "text/x-python",
   "name": "python",
   "nbconvert_exporter": "python",
   "pygments_lexer": "ipython3",
   "version": "3.10.12"
  }
 },
 "nbformat": 4,
 "nbformat_minor": 5
}
