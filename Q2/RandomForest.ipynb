{
 "cells": [
  {
   "cell_type": "code",
   "execution_count": 1,
   "id": "6759ff3f-958e-4cfd-9242-95708dc06324",
   "metadata": {},
   "outputs": [],
   "source": [
    "# Import necessary libraries\n",
    "import os\n",
    "import glob\n",
    "import pandas as pd\n",
    "from sklearn.model_selection import train_test_split\n",
    "from sklearn.ensemble import RandomForestClassifier\n",
    "from sklearn.metrics import accuracy_score, classification_report"
   ]
  },
  {
   "cell_type": "code",
   "execution_count": 2,
   "id": "7e1aad3a-64dd-4aff-bf06-6bb0e584920d",
   "metadata": {},
   "outputs": [],
   "source": [
    "#assuming we are in Q2 directory , we go to the parent folder\n",
    "folder_path = os.path.join('..', 'new_data')\n",
    "\n",
    "# Get all the CSV files from the folder\n",
    "csv_files = glob.glob(folder_path + '/*.csv')\n",
    "\n",
    "all_data=[]\n",
    "# Load each CSV file in one dataframe\n",
    "for idx,csv_file in enumerate(csv_files):\n",
    "    # Load the CSV file into a dataframe\n",
    "    df = pd.read_csv(csv_file)\n",
    "    \n",
    "    # Append the DataFrame to the list\n",
    "    all_data.append(df)\n",
    "\n",
    "# Combine all data into a single DataFrame\n",
    "combined_data = pd.concat(all_data)\n"
   ]
  },
  {
   "cell_type": "code",
   "execution_count": 3,
   "id": "cefbdd50-215e-4172-826e-06cab6f4ee2a",
   "metadata": {},
   "outputs": [
    {
     "name": "stdout",
     "output_type": "stream",
     "text": [
      "Accuracy: 0.89\n",
      "\n",
      "Classification Report:\n",
      "               precision    recall  f1-score   support\n",
      "\n",
      "           0       0.76      0.89      0.82     24198\n",
      "           1       0.91      0.87      0.89      5745\n",
      "           2       0.46      0.23      0.31      5074\n",
      "           3       0.55      0.11      0.19      1540\n",
      "           4       0.56      0.03      0.06      1385\n",
      "           5       0.81      0.88      0.85     14805\n",
      "           6       1.00      1.00      1.00     58003\n",
      "           7       1.00      1.00      1.00      8523\n",
      "           8       0.80      0.87      0.83      7838\n",
      "           9       0.68      0.51      0.59      1104\n",
      "          10       0.65      0.43      0.52       865\n",
      "          11       0.69      0.42      0.53       149\n",
      "\n",
      "    accuracy                           0.89    129229\n",
      "   macro avg       0.74      0.60      0.63    129229\n",
      "weighted avg       0.88      0.89      0.88    129229\n",
      "\n"
     ]
    }
   ],
   "source": [
    "# Select relevant features and target variable\n",
    "features = combined_data[['back_x', 'back_y', 'back_z', 'thigh_x', 'thigh_y', 'thigh_z']]\n",
    "target = combined_data['label']\n",
    "\n",
    "# Split the dataset into training and testing sets\n",
    "X_train, X_test, y_train, y_test = train_test_split(features, target, test_size=0.2, random_state=42)\n",
    " \n",
    "# Create a Random Forest Classifier\n",
    "rf_classifier = RandomForestClassifier(n_estimators=100, random_state=42)\n",
    " \n",
    "# Train the classifier\n",
    "rf_classifier.fit(X_train, y_train)\n",
    " \n",
    "# Make predictions on the test set\n",
    "y_pred = rf_classifier.predict(X_test)\n",
    " \n",
    "# Evaluate the model\n",
    "accuracy = accuracy_score(y_test, y_pred)\n",
    "classification_rep = classification_report(y_test, y_pred)\n",
    " \n",
    "# Print the results\n",
    "print(f\"Accuracy: {accuracy:.2f}\")\n",
    "print(\"\\nClassification Report:\\n\", classification_rep)"
   ]
  },
  {
   "cell_type": "code",
   "execution_count": null,
   "id": "77bfd3e4-cdbc-43e1-9a4c-c99eb2fcd5d9",
   "metadata": {},
   "outputs": [],
   "source": []
  }
 ],
 "metadata": {
  "kernelspec": {
   "display_name": "Python 3 (ipykernel)",
   "language": "python",
   "name": "python3"
  },
  "language_info": {
   "codemirror_mode": {
    "name": "ipython",
    "version": 3
   },
   "file_extension": ".py",
   "mimetype": "text/x-python",
   "name": "python",
   "nbconvert_exporter": "python",
   "pygments_lexer": "ipython3",
   "version": "3.10.12"
  }
 },
 "nbformat": 4,
 "nbformat_minor": 5
}
