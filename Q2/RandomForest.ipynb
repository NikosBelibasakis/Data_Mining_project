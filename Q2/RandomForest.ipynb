{
 "cells": [
  {
   "cell_type": "code",
   "execution_count": 1,
   "id": "6759ff3f-958e-4cfd-9242-95708dc06324",
   "metadata": {},
   "outputs": [],
   "source": [
    "# Import necessary libraries\n",
    "import os\n",
    "import glob\n",
    "import pandas as pd\n",
    "from sklearn.model_selection import train_test_split, GridSearchCV\n",
    "from sklearn.ensemble import RandomForestClassifier\n",
    "from sklearn.metrics import accuracy_score, classification_report, confusion_matrix\n",
    "import numpy as np"
   ]
  },
  {
   "cell_type": "code",
   "execution_count": 2,
   "id": "7e1aad3a-64dd-4aff-bf06-6bb0e584920d",
   "metadata": {},
   "outputs": [],
   "source": [
    "#assuming we are in Q2 directory , we go to the parent folder\n",
    "folder_path = os.path.join('..', 'new_data')\n",
    "\n",
    "# Get all the CSV files from the folder\n",
    "csv_files = glob.glob(folder_path + '/*.csv')\n",
    "\n",
    "all_data=[]\n",
    "# Load each CSV file in one dataframe\n",
    "for idx,csv_file in enumerate(csv_files):\n",
    "    # Load the CSV file into a dataframe\n",
    "    df = pd.read_csv(csv_file)\n",
    "    \n",
    "    # Append the DataFrame to the list\n",
    "    all_data.append(df)\n",
    "\n",
    "# Combine all data into a single DataFrame\n",
    "combined_data = pd.concat(all_data)\n",
    "#combined_data=combined_data.iloc[::10]"
   ]
  },
  {
   "cell_type": "code",
   "execution_count": 3,
   "id": "cefbdd50-215e-4172-826e-06cab6f4ee2a",
   "metadata": {},
   "outputs": [],
   "source": [
    "# Create lag features\n",
    "combined_data['Activity_Lag1'] = combined_data['label'].shift(1)\n",
    "combined_data['Activity_Lag2'] = combined_data['label'].shift(2)\n",
    "combined_data['Activity_Lag3'] = combined_data['label'].shift(3)\n",
    "# Drop rows with NaN values resulting from the shift\n",
    "combined_data.dropna(inplace=True) #drops 3 first rows of data\n",
    "\n",
    "# Select relevant features and target variable\n",
    "features = combined_data.drop(['label', 'timestamp'], axis=1).values\n",
    "target = combined_data['label'].values\n",
    "\n",
    "# Split the dataset into training and testing sets\n",
    "X_train, X_test, y_train, y_test = train_test_split(features, target, test_size=0.2, random_state=42)\n",
    " "
   ]
  },
  {
   "cell_type": "code",
   "execution_count": 4,
   "id": "b4b9af21-c7e5-4829-a26a-d4c0e5772198",
   "metadata": {},
   "outputs": [],
   "source": [
    "# Create a Random Forest Classifier\n",
    "rf_classifier = RandomForestClassifier(n_estimators=100, random_state=42)\n",
    " \n",
    "# Train the classifier\n",
    "rf_classifier.fit(X_train, y_train)\n",
    " \n",
    "# Make predictions on the test set\n",
    "y_pred = rf_classifier.predict(X_test)\n",
    " "
   ]
  },
  {
   "cell_type": "code",
   "execution_count": 5,
   "id": "bf26553c-e57a-474d-9e91-ddef0fc9ee59",
   "metadata": {},
   "outputs": [
    {
     "name": "stdout",
     "output_type": "stream",
     "text": [
      "Accuracy: 0.99\n",
      "\n",
      "Classification Report:\n",
      "               precision    recall  f1-score   support\n",
      "\n",
      "           0       0.99      0.99      0.99     23921\n",
      "           1       1.00      1.00      1.00      5786\n",
      "           2       0.91      0.90      0.91      5036\n",
      "           3       0.97      0.97      0.97      1498\n",
      "           4       0.95      0.95      0.95      1349\n",
      "           5       0.97      0.98      0.98     14889\n",
      "           6       1.00      1.00      1.00     58181\n",
      "           7       1.00      1.00      1.00      8605\n",
      "           8       1.00      1.00      1.00      7891\n",
      "           9       0.99      0.99      0.99      1089\n",
      "          10       0.98      0.99      0.98       830\n",
      "          11       0.99      0.97      0.98       153\n",
      "\n",
      "    accuracy                           0.99    129228\n",
      "   macro avg       0.98      0.98      0.98    129228\n",
      "weighted avg       0.99      0.99      0.99    129228\n",
      "\n",
      "Confusion Matrix:\n",
      "[[23618    10   131    23    49    75    11     4     0     0     0     0]\n",
      " [    9  5774     2     0     0     1     0     0     0     0     0     0]\n",
      " [  130     3  4548    20    19   303    11     2     0     0     0     0]\n",
      " [   23     0    21  1452     0     1     1     0     0     0     0     0]\n",
      " [   51     0    13     0  1284     1     0     0     0     0     0     0]\n",
      " [   73     1   277     2     1 14531     2     1     1     0     0     0]\n",
      " [    5     0     7     0     0     2 58166     1     0     0     0     0]\n",
      " [    2     0     3     0     0     1     3  8596     0     0     0     0]\n",
      " [    0     0     5     0     0     2     0     0  7857    11    14     2]\n",
      " [    0     0     0     0     0     1     0     0    11  1076     1     0]\n",
      " [    0     0     0     0     0     0     0     0    11     1   818     0]\n",
      " [    0     0     0     0     0     0     0     0     1     3     0   149]]\n"
     ]
    }
   ],
   "source": [
    "# Evaluate the model\n",
    "accuracy = accuracy_score(y_test, y_pred)\n",
    "classification_rep = classification_report(y_test, y_pred)\n",
    "\n",
    "# Print the results\n",
    "print(f\"Accuracy: {accuracy:.2f}\")\n",
    "print(\"\\nClassification Report:\\n\", classification_rep)\n",
    "print(\"Confusion Matrix:\")\n",
    "print(confusion_matrix(y_test, y_pred))"
   ]
  },
  {
   "cell_type": "code",
   "execution_count": 6,
   "id": "697d9a5a-9e1c-46f5-b3d2-cb22de768ea0",
   "metadata": {},
   "outputs": [
    {
     "name": "stdout",
     "output_type": "stream",
     "text": [
      "\n",
      "Sample 1:\n",
      "Random Sample Index: 12490\n",
      "Input Features: [[-0.9839 -0.0693 -0.6514 -0.9255 -0.2107 -0.9106  8.      8.      8.    ]]\n",
      "Actual Label: 8\n",
      "Predicted Label: [8]\n",
      "\n",
      "Sample 2:\n",
      "Random Sample Index: 27920\n",
      "Input Features: [[-0.909  -0.0516 -0.4228 -0.3864 -0.246   0.9019  6.      6.      6.    ]]\n",
      "Actual Label: 6\n",
      "Predicted Label: [6]\n",
      "\n",
      "Sample 3:\n",
      "Random Sample Index: 113800\n",
      "Input Features: [[-0.8906  0.0781 -0.4844 -0.4448  0.2496  0.8685  6.      6.      6.    ]]\n",
      "Actual Label: 6\n",
      "Predicted Label: [6]\n",
      "\n",
      "Sample 4:\n",
      "Random Sample Index: 26572\n",
      "Input Features: [[-0.9911  0.0935 -0.0637 -0.4969 -0.1515  0.8553  6.      6.      6.    ]]\n",
      "Actual Label: 6\n",
      "Predicted Label: [6]\n",
      "\n",
      "Sample 5:\n",
      "Random Sample Index: 128119\n",
      "Input Features: [[-0.7675 -0.0263 -0.6486 -0.04    0.1799  0.9972  6.      6.      6.    ]]\n",
      "Actual Label: 6\n",
      "Predicted Label: [6]\n",
      "\n",
      "Sample 6:\n",
      "Random Sample Index: 31813\n",
      "Input Features: [[-0.667   0.1054  0.0711 -0.3242  0.1584 -0.0929  0.      0.      0.    ]]\n",
      "Actual Label: 0\n",
      "Predicted Label: [0]\n",
      "\n",
      "Sample 7:\n",
      "Random Sample Index: 63132\n",
      "Input Features: [[-0.7655  0.0959 -0.716   0.0266 -0.2694  0.968   6.      6.      6.    ]]\n",
      "Actual Label: 6\n",
      "Predicted Label: [6]\n",
      "\n",
      "Sample 8:\n",
      "Random Sample Index: 2831\n",
      "Input Features: [[-0.9351 -0.0776 -0.0159 -1.0117 -0.1011 -0.2031  5.      5.      5.    ]]\n",
      "Actual Label: 5\n",
      "Predicted Label: [5]\n",
      "\n",
      "Sample 9:\n",
      "Random Sample Index: 22304\n",
      "Input Features: [[-1.1354 -0.0212 -0.0308 -1.1033  0.0337 -0.0118  2.      2.      2.    ]]\n",
      "Actual Label: 2\n",
      "Predicted Label: [2]\n",
      "\n",
      "Sample 10:\n",
      "Random Sample Index: 19720\n",
      "Input Features: [[-0.6755 -0.2144 -0.699  -1.0032 -0.026  -0.0971  5.      5.      5.    ]]\n",
      "Actual Label: 5\n",
      "Predicted Label: [5]\n"
     ]
    }
   ],
   "source": [
    "num_samples = 10\n",
    "\n",
    "# Get 10 random indices from the x_test data set\n",
    "random_indices = np.random.randint(0, len(X_test), size=num_samples)\n",
    "\n",
    "for i, random_index in enumerate(random_indices):\n",
    "    random_sample = X_test[random_index].reshape(1, -1)  # Reshape to match model's expected input shape\n",
    "    actual_label = y_test[random_index]\n",
    "    \n",
    "    # Make the prediction\n",
    "    predicted_label = rf_classifier.predict(random_sample)\n",
    "    \n",
    "    # Display the random sample and the label prediction\n",
    "    print(f'\\nSample {i+1}:')\n",
    "    print(f'Random Sample Index: {random_index}')\n",
    "    print(f'Input Features: {random_sample}')\n",
    "    print(f'Actual Label: {actual_label}')\n",
    "    print(f'Predicted Label: {predicted_label}')"
   ]
  },
  {
   "cell_type": "code",
   "execution_count": null,
   "id": "767b19ce-adea-48a5-ba2e-0c42b8eb743f",
   "metadata": {},
   "outputs": [],
   "source": []
  },
  {
   "cell_type": "code",
   "execution_count": null,
   "id": "e5353f53-e622-44e1-80a3-baed4e9d4786",
   "metadata": {},
   "outputs": [
    {
     "name": "stderr",
     "output_type": "stream",
     "text": [
      "/home/mira/Documents/uni/12th/data_mining/Data_Mining_project/myvenv/lib/python3.10/site-packages/joblib/externals/loky/process_executor.py:752: UserWarning: A worker stopped while some jobs were given to the executor. This can be caused by a too short worker timeout or by a memory leak.\n",
      "  warnings.warn(\n"
     ]
    }
   ],
   "source": [
    "# Hyperparameter tuning using GridSearchCV with limited parallel jobs\n",
    "param_grid = {\n",
    "    'n_estimators': [100, 200],\n",
    "    'max_features': ['sqrt', 'log2'],\n",
    "    'max_depth': [None, 10, 20],\n",
    "    'criterion': ['gini', 'entropy']\n",
    "}\n",
    "grid_search = GridSearchCV(estimator=rf_classifier, param_grid=param_grid, cv=3, n_jobs=-1)\n",
    "grid_search.fit(X_train, y_train)\n",
    "\n",
    "print(\"\\nBest Parameters from GridSearchCV:\")\n",
    "print(grid_search.best_params_)"
   ]
  },
  {
   "cell_type": "code",
   "execution_count": null,
   "id": "77bfd3e4-cdbc-43e1-9a4c-c99eb2fcd5d9",
   "metadata": {},
   "outputs": [],
   "source": []
  }
 ],
 "metadata": {
  "kernelspec": {
   "display_name": "Python 3 (ipykernel)",
   "language": "python",
   "name": "python3"
  },
  "language_info": {
   "codemirror_mode": {
    "name": "ipython",
    "version": 3
   },
   "file_extension": ".py",
   "mimetype": "text/x-python",
   "name": "python",
   "nbconvert_exporter": "python",
   "pygments_lexer": "ipython3",
   "version": "3.10.12"
  }
 },
 "nbformat": 4,
 "nbformat_minor": 5
}
