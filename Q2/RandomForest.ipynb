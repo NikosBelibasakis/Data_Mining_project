{
 "cells": [
  {
   "cell_type": "code",
   "execution_count": 1,
   "id": "6759ff3f-958e-4cfd-9242-95708dc06324",
   "metadata": {},
   "outputs": [],
   "source": [
    "# Import necessary libraries\n",
    "import os\n",
    "import glob\n",
    "import pandas as pd\n",
    "from sklearn.model_selection import train_test_split, GridSearchCV\n",
    "from sklearn.ensemble import RandomForestClassifier\n",
    "from sklearn.metrics import accuracy_score, classification_report, confusion_matrix"
   ]
  },
  {
   "cell_type": "code",
   "execution_count": 2,
   "id": "7e1aad3a-64dd-4aff-bf06-6bb0e584920d",
   "metadata": {},
   "outputs": [],
   "source": [
    "#assuming we are in Q2 directory , we go to the parent folder\n",
    "folder_path = os.path.join('..', 'new_data')\n",
    "\n",
    "# Get all the CSV files from the folder\n",
    "csv_files = glob.glob(folder_path + '/*.csv')\n",
    "\n",
    "all_data=[]\n",
    "# Load each CSV file in one dataframe\n",
    "for idx,csv_file in enumerate(csv_files):\n",
    "    # Load the CSV file into a dataframe\n",
    "    df = pd.read_csv(csv_file)\n",
    "    \n",
    "    # Append the DataFrame to the list\n",
    "    all_data.append(df)\n",
    "\n",
    "# Combine all data into a single DataFrame\n",
    "combined_data = pd.concat(all_data)\n",
    "#combined_data=combined_data.iloc[::10]"
   ]
  },
  {
   "cell_type": "code",
   "execution_count": 3,
   "id": "cefbdd50-215e-4172-826e-06cab6f4ee2a",
   "metadata": {},
   "outputs": [],
   "source": [
    "# Create lag features\n",
    "combined_data['Activity_Lag1'] = combined_data['label'].shift(1)\n",
    "combined_data['Activity_Lag2'] = combined_data['label'].shift(2)\n",
    "combined_data['Activity_Lag3'] = combined_data['label'].shift(3)\n",
    "# Drop rows with NaN values resulting from the shift\n",
    "combined_data.dropna(inplace=True) #drops 3 first rows of data\n",
    "\n",
    "# Select relevant features and target variable\n",
    "features = combined_data.drop(['label', 'timestamp'], axis=1)\n",
    "target = combined_data['label']\n",
    "\n",
    "# Split the dataset into training and testing sets\n",
    "X_train, X_test, y_train, y_test = train_test_split(features, target, test_size=0.2, random_state=42)\n",
    " "
   ]
  },
  {
   "cell_type": "code",
   "execution_count": 4,
   "id": "b4b9af21-c7e5-4829-a26a-d4c0e5772198",
   "metadata": {},
   "outputs": [],
   "source": [
    "# Create a Random Forest Classifier\n",
    "rf_classifier = RandomForestClassifier(n_estimators=100, random_state=42)\n",
    " \n",
    "# Train the classifier\n",
    "rf_classifier.fit(X_train, y_train)\n",
    " \n",
    "# Make predictions on the test set\n",
    "y_pred = rf_classifier.predict(X_test)\n",
    " "
   ]
  },
  {
   "cell_type": "code",
   "execution_count": 5,
   "id": "bf26553c-e57a-474d-9e91-ddef0fc9ee59",
   "metadata": {},
   "outputs": [
    {
     "name": "stdout",
     "output_type": "stream",
     "text": [
      "Accuracy: 0.99\n",
      "\n",
      "Classification Report:\n",
      "               precision    recall  f1-score   support\n",
      "\n",
      "           0       0.99      0.99      0.99     23921\n",
      "           1       1.00      1.00      1.00      5786\n",
      "           2       0.91      0.90      0.91      5036\n",
      "           3       0.97      0.97      0.97      1498\n",
      "           4       0.95      0.95      0.95      1349\n",
      "           5       0.97      0.98      0.98     14889\n",
      "           6       1.00      1.00      1.00     58181\n",
      "           7       1.00      1.00      1.00      8605\n",
      "           8       1.00      1.00      1.00      7891\n",
      "           9       0.99      0.99      0.99      1089\n",
      "          10       0.98      0.99      0.98       830\n",
      "          11       0.99      0.97      0.98       153\n",
      "\n",
      "    accuracy                           0.99    129228\n",
      "   macro avg       0.98      0.98      0.98    129228\n",
      "weighted avg       0.99      0.99      0.99    129228\n",
      "\n"
     ]
    }
   ],
   "source": [
    "\n",
    "# Evaluate the model\n",
    "accuracy = accuracy_score(y_test, y_pred)\n",
    "classification_rep = classification_report(y_test, y_pred)\n",
    " \n",
    "# Print the results\n",
    "print(f\"Accuracy: {accuracy:.2f}\")\n",
    "print(\"\\nClassification Report:\\n\", classification_rep)"
   ]
  },
  {
   "cell_type": "code",
   "execution_count": null,
   "id": "e5353f53-e622-44e1-80a3-baed4e9d4786",
   "metadata": {},
   "outputs": [],
   "source": [
    "# Hyperparameter tuning using GridSearchCV with limited parallel jobs\n",
    "param_grid = {\n",
    "    'n_estimators': [100, 200],\n",
    "    'max_features': ['sqrt', 'log2'],\n",
    "    'max_depth': [None, 10, 20],\n",
    "    'criterion': ['gini', 'entropy']\n",
    "}\n",
    "grid_search = GridSearchCV(estimator=rf_classifier, param_grid=param_grid, cv=3, n_jobs=3)\n",
    "grid_search.fit(X_train, y_train)\n",
    "\n",
    "print(\"\\nBest Parameters from GridSearchCV:\")\n",
    "print(grid_search.best_params_)"
   ]
  },
  {
   "cell_type": "code",
   "execution_count": null,
   "id": "77bfd3e4-cdbc-43e1-9a4c-c99eb2fcd5d9",
   "metadata": {},
   "outputs": [],
   "source": []
  }
 ],
 "metadata": {
  "kernelspec": {
   "display_name": "Python 3 (ipykernel)",
   "language": "python",
   "name": "python3"
  },
  "language_info": {
   "codemirror_mode": {
    "name": "ipython",
    "version": 3
   },
   "file_extension": ".py",
   "mimetype": "text/x-python",
   "name": "python",
   "nbconvert_exporter": "python",
   "pygments_lexer": "ipython3",
   "version": "3.10.12"
  }
 },
 "nbformat": 4,
 "nbformat_minor": 5
}
