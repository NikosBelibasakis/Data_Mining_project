{
 "cells": [
  {
   "cell_type": "code",
   "execution_count": 1,
   "id": "6759ff3f-958e-4cfd-9242-95708dc06324",
   "metadata": {},
   "outputs": [],
   "source": [
    "# Import necessary libraries\n",
    "import os\n",
    "import glob\n",
    "import time\n",
    "import pandas as pd\n",
    "from sklearn.model_selection import train_test_split, cross_val_score\n",
    "from sklearn.ensemble import RandomForestClassifier\n",
    "from sklearn.metrics import accuracy_score, classification_report, confusion_matrix, roc_curve, auc\n",
    "import numpy as np"
   ]
  },
  {
   "cell_type": "code",
   "execution_count": 2,
   "id": "7e1aad3a-64dd-4aff-bf06-6bb0e584920d",
   "metadata": {},
   "outputs": [],
   "source": [
    "#assuming we are in Q2 directory , we go to the parent folder\n",
    "folder_path = os.path.join('..', 'new_data')\n",
    "\n",
    "# Get all the CSV files from the folder\n",
    "csv_files = glob.glob(folder_path + '/*.csv')\n",
    "\n",
    "all_data=[]\n",
    "# Load each CSV file in one dataframe\n",
    "for idx,csv_file in enumerate(csv_files):\n",
    "    # Load the CSV file into a dataframe\n",
    "    df = pd.read_csv(csv_file)\n",
    "    \n",
    "    # Append the DataFrame to the list\n",
    "    all_data.append(df)\n",
    "\n",
    "# Combine all data into a single DataFrame\n",
    "combined_data = pd.concat(all_data)\n",
    "#combined_data=combined_data.iloc[::10]"
   ]
  },
  {
   "cell_type": "code",
   "execution_count": 3,
   "id": "cefbdd50-215e-4172-826e-06cab6f4ee2a",
   "metadata": {},
   "outputs": [],
   "source": [
    "# Create lag features\n",
    "combined_data['Activity_Lag'] = combined_data['label'].shift(1)\n",
    "\n",
    "# Drop rows with NaN values resulting from the shift\n",
    "combined_data.dropna(inplace=True) #drops 1 first rows of data\n",
    "\n",
    "# Select relevant features and target variable\n",
    "features = combined_data.drop(['label', 'timestamp'], axis=1).values\n",
    "target = combined_data['label'].values\n",
    "\n",
    "# Split the dataset into training and testing sets\n",
    "X_train, X_test, y_train, y_test = train_test_split(features, target, test_size=0.2, random_state=42)\n",
    " "
   ]
  },
  {
   "cell_type": "code",
   "execution_count": 4,
   "id": "b4b9af21-c7e5-4829-a26a-d4c0e5772198",
   "metadata": {},
   "outputs": [
    {
     "name": "stdout",
     "output_type": "stream",
     "text": [
      "Training completed in : 44.52234888076782\n",
      "Prediction completed in: 0.7811682224273682\n"
     ]
    }
   ],
   "source": [
    "# Create a Random Forest Classifier\n",
    "rf_classifier = RandomForestClassifier(n_estimators=100, random_state=42, n_jobs=-1)\n",
    "\n",
    "start=time.time() #start time of the training\n",
    "\n",
    "# Train the classifier\n",
    "rf_classifier.fit(X_train, y_train)\n",
    "\n",
    "end=time.time() #calculating time\n",
    "print(f'Training completed in : {end-start}')\n",
    "\n",
    "# Make predictions on the test set\n",
    "y_pred = rf_classifier.predict(X_test)\n",
    "print(f'Prediction completed in: {time.time()-end}') "
   ]
  },
  {
   "cell_type": "code",
   "execution_count": 5,
   "id": "bf26553c-e57a-474d-9e91-ddef0fc9ee59",
   "metadata": {},
   "outputs": [
    {
     "name": "stdout",
     "output_type": "stream",
     "text": [
      "Accuracy: 0.99\n",
      "\n",
      "Classification Report:\n",
      "               precision    recall  f1-score   support\n",
      "\n",
      "           0       0.99      0.99      0.99     24235\n",
      "           1       1.00      1.00      1.00      5758\n",
      "           2       0.90      0.90      0.90      5057\n",
      "           3       0.97      0.97      0.97      1533\n",
      "           4       0.95      0.96      0.96      1381\n",
      "           5       0.97      0.97      0.97     14826\n",
      "           6       1.00      1.00      1.00     57972\n",
      "           7       1.00      1.00      1.00      8523\n",
      "           8       1.00      1.00      1.00      7848\n",
      "           9       0.99      0.99      0.99      1105\n",
      "          10       0.97      0.98      0.98       841\n",
      "          11       1.00      0.98      0.99       150\n",
      "\n",
      "    accuracy                           0.99    129229\n",
      "   macro avg       0.98      0.98      0.98    129229\n",
      "weighted avg       0.99      0.99      0.99    129229\n",
      "\n",
      "Confusion Matrix:\n",
      "[[23936     8   127    25    39    83    14     1     2     0     0     0]\n",
      " [   11  5743     3     0     0     1     0     0     0     0     0     0]\n",
      " [  136     8  4551    18    19   314     8     0     2     1     0     0]\n",
      " [   23     2    19  1487     1     1     0     0     0     0     0     0]\n",
      " [   38     0    15     0  1328     0     0     0     0     0     0     0]\n",
      " [   75     1   313     2    10 14421     2     1     0     1     0     0]\n",
      " [    4     0     8     0     0     4 57954     2     0     0     0     0]\n",
      " [    1     2     1     0     0     1     6  8512     0     0     0     0]\n",
      " [    0     0     2     0     0     1     0     0  7815    11    19     0]\n",
      " [    0     0     0     0     0     0     0     0     9  1094     2     0]\n",
      " [    0     0     0     0     0     0     0     0    11     2   828     0]\n",
      " [    0     0     0     0     0     0     0     0     1     1     1   147]]\n"
     ]
    }
   ],
   "source": [
    "# Evaluate the model\n",
    "accuracy = accuracy_score(y_test, y_pred)\n",
    "classification_rep = classification_report(y_test, y_pred)\n",
    "\n",
    "# Print the results\n",
    "print(f\"Accuracy: {accuracy:.2f}\")\n",
    "print(\"\\nClassification Report:\\n\", classification_rep)\n",
    "print(\"Confusion Matrix:\")\n",
    "print(confusion_matrix(y_test, y_pred))"
   ]
  },
  {
   "cell_type": "code",
   "execution_count": 6,
   "id": "697d9a5a-9e1c-46f5-b3d2-cb22de768ea0",
   "metadata": {},
   "outputs": [
    {
     "name": "stdout",
     "output_type": "stream",
     "text": [
      "\n",
      "Sample 1:\n",
      "Random Sample Index: 79035\n",
      "Input Features: [[-0.1252  0.9498 -0.336  -0.2593 -0.9437  0.1818  7.    ]]\n",
      "Actual Label: 7\n",
      "Predicted Label: [7]\n",
      "\n",
      "Sample 2:\n",
      "Random Sample Index: 12847\n",
      "Input Features: [[-0.6438  0.0319  0.7007 -1.8543 -0.6426 -0.6248 10.    ]]\n",
      "Actual Label: 10\n",
      "Predicted Label: [10]\n",
      "\n",
      "Sample 3:\n",
      "Random Sample Index: 41713\n",
      "Input Features: [[-0.9758 -0.1824  0.0674 -0.3356 -0.1609  0.919   6.    ]]\n",
      "Actual Label: 6\n",
      "Predicted Label: [6]\n",
      "\n",
      "Sample 4:\n",
      "Random Sample Index: 89511\n",
      "Input Features: [[-0.9851  0.0617 -0.3128 -0.0987 -0.2261  0.9723  6.    ]]\n",
      "Actual Label: 6\n",
      "Predicted Label: [6]\n",
      "\n",
      "Sample 5:\n",
      "Random Sample Index: 35901\n",
      "Input Features: [[-1.0162e+00  4.0000e-04 -2.3380e-01  5.9000e-03  3.8050e-01  9.3170e-01\n",
      "   6.0000e+00]]\n",
      "Actual Label: 6\n",
      "Predicted Label: [6]\n",
      "\n",
      "Sample 6:\n",
      "Random Sample Index: 119081\n",
      "Input Features: [[-4.7860e-01  1.4000e-03 -8.7520e-01  8.6300e-02  4.5800e-02  1.0044e+00\n",
      "   6.0000e+00]]\n",
      "Actual Label: 6\n",
      "Predicted Label: [6]\n",
      "\n",
      "Sample 7:\n",
      "Random Sample Index: 118575\n",
      "Input Features: [[-0.569   0.068  -0.0103 -0.522  -0.0094  0.0181  0.    ]]\n",
      "Actual Label: 0\n",
      "Predicted Label: [0]\n",
      "\n",
      "Sample 8:\n",
      "Random Sample Index: 92388\n",
      "Input Features: [[-0.9058  0.0664 -0.4161 -0.2757  0.0108  0.9534  6.    ]]\n",
      "Actual Label: 6\n",
      "Predicted Label: [6]\n",
      "\n",
      "Sample 9:\n",
      "Random Sample Index: 126617\n",
      "Input Features: [[-3.0784 -0.0466 -0.0898 -3.8381 -1.4541 -0.6909  1.    ]]\n",
      "Actual Label: 1\n",
      "Predicted Label: [1]\n",
      "\n",
      "Sample 10:\n",
      "Random Sample Index: 18499\n",
      "Input Features: [[-8.941e-01  6.670e-02 -4.308e-01 -2.780e-01 -5.600e-03  9.464e-01\n",
      "   6.000e+00]]\n",
      "Actual Label: 6\n",
      "Predicted Label: [6]\n"
     ]
    }
   ],
   "source": [
    "num_samples = 10\n",
    "\n",
    "# Get 10 random indices from the x_test data set\n",
    "random_indices = np.random.randint(0, len(X_test), size=num_samples)\n",
    "\n",
    "for i, random_index in enumerate(random_indices):\n",
    "    random_sample = X_test[random_index].reshape(1, -1)  # Reshape to match model's expected input shape\n",
    "    actual_label = y_test[random_index]\n",
    "    \n",
    "    # Make the prediction\n",
    "    predicted_label = rf_classifier.predict(random_sample)\n",
    "    \n",
    "    # Display the random sample and the label prediction\n",
    "    print(f'\\nSample {i+1}:')\n",
    "    print(f'Random Sample Index: {random_index}')\n",
    "    print(f'Input Features: {random_sample}')\n",
    "    print(f'Actual Label: {actual_label}')\n",
    "    print(f'Predicted Label: {predicted_label}')"
   ]
  },
  {
   "cell_type": "code",
   "execution_count": 7,
   "id": "767b19ce-adea-48a5-ba2e-0c42b8eb743f",
   "metadata": {},
   "outputs": [
    {
     "name": "stdout",
     "output_type": "stream",
     "text": [
      "0.9891103299997729\n"
     ]
    }
   ],
   "source": [
    "# 10-Fold Cross validation\n",
    "print(np.mean(cross_val_score(rf_classifier, X_train, y_train, cv=10, n_jobs=5)))"
   ]
  },
  {
   "cell_type": "code",
   "execution_count": 9,
   "id": "77bfd3e4-cdbc-43e1-9a4c-c99eb2fcd5d9",
   "metadata": {},
   "outputs": [
    {
     "ename": "ImportError",
     "evalue": "cannot import name 'interp' from 'scipy' (/home/mira/Documents/uni/12th/data_mining/Data_Mining_project/myvenv/lib/python3.10/site-packages/scipy/__init__.py)",
     "output_type": "error",
     "traceback": [
      "\u001b[0;31m---------------------------------------------------------------------------\u001b[0m",
      "\u001b[0;31mImportError\u001b[0m                               Traceback (most recent call last)",
      "Cell \u001b[0;32mIn[9], line 1\u001b[0m\n\u001b[0;32m----> 1\u001b[0m \u001b[38;5;28;01mimport\u001b[39;00m \u001b[38;5;21;01mscikitplot\u001b[39;00m \u001b[38;5;28;01mas\u001b[39;00m \u001b[38;5;21;01mskplt\u001b[39;00m\n\u001b[1;32m      2\u001b[0m \u001b[38;5;28;01mimport\u001b[39;00m \u001b[38;5;21;01mmatplotlib\u001b[39;00m\u001b[38;5;21;01m.\u001b[39;00m\u001b[38;5;21;01mpyplot\u001b[39;00m \u001b[38;5;28;01mas\u001b[39;00m \u001b[38;5;21;01mplt\u001b[39;00m\n\u001b[1;32m      4\u001b[0m skplt\u001b[38;5;241m.\u001b[39mmetrics\u001b[38;5;241m.\u001b[39mplot_roc_curve(y_test, y_pred)\n",
      "File \u001b[0;32m~/Documents/uni/12th/data_mining/Data_Mining_project/myvenv/lib/python3.10/site-packages/scikitplot/__init__.py:2\u001b[0m\n\u001b[1;32m      1\u001b[0m \u001b[38;5;28;01mfrom\u001b[39;00m \u001b[38;5;21;01m__future__\u001b[39;00m \u001b[38;5;28;01mimport\u001b[39;00m absolute_import, division, print_function, unicode_literals\n\u001b[0;32m----> 2\u001b[0m \u001b[38;5;28;01mfrom\u001b[39;00m \u001b[38;5;21;01m.\u001b[39;00m \u001b[38;5;28;01mimport\u001b[39;00m metrics, cluster, decomposition, estimators\n\u001b[1;32m      3\u001b[0m __version__ \u001b[38;5;241m=\u001b[39m \u001b[38;5;124m'\u001b[39m\u001b[38;5;124m0.3.7\u001b[39m\u001b[38;5;124m'\u001b[39m\n\u001b[1;32m      6\u001b[0m \u001b[38;5;28;01mfrom\u001b[39;00m \u001b[38;5;21;01mscikitplot\u001b[39;00m\u001b[38;5;21;01m.\u001b[39;00m\u001b[38;5;21;01mclassifiers\u001b[39;00m \u001b[38;5;28;01mimport\u001b[39;00m classifier_factory\n",
      "File \u001b[0;32m~/Documents/uni/12th/data_mining/Data_Mining_project/myvenv/lib/python3.10/site-packages/scikitplot/metrics.py:27\u001b[0m\n\u001b[1;32m     24\u001b[0m \u001b[38;5;28;01mfrom\u001b[39;00m \u001b[38;5;21;01msklearn\u001b[39;00m\u001b[38;5;21;01m.\u001b[39;00m\u001b[38;5;21;01mcalibration\u001b[39;00m \u001b[38;5;28;01mimport\u001b[39;00m calibration_curve\n\u001b[1;32m     25\u001b[0m \u001b[38;5;28;01mfrom\u001b[39;00m \u001b[38;5;21;01msklearn\u001b[39;00m\u001b[38;5;21;01m.\u001b[39;00m\u001b[38;5;21;01mutils\u001b[39;00m \u001b[38;5;28;01mimport\u001b[39;00m deprecated\n\u001b[0;32m---> 27\u001b[0m \u001b[38;5;28;01mfrom\u001b[39;00m \u001b[38;5;21;01mscipy\u001b[39;00m \u001b[38;5;28;01mimport\u001b[39;00m interp\n\u001b[1;32m     29\u001b[0m \u001b[38;5;28;01mfrom\u001b[39;00m \u001b[38;5;21;01mscikitplot\u001b[39;00m\u001b[38;5;21;01m.\u001b[39;00m\u001b[38;5;21;01mhelpers\u001b[39;00m \u001b[38;5;28;01mimport\u001b[39;00m binary_ks_curve, validate_labels\n\u001b[1;32m     30\u001b[0m \u001b[38;5;28;01mfrom\u001b[39;00m \u001b[38;5;21;01mscikitplot\u001b[39;00m\u001b[38;5;21;01m.\u001b[39;00m\u001b[38;5;21;01mhelpers\u001b[39;00m \u001b[38;5;28;01mimport\u001b[39;00m cumulative_gain_curve\n",
      "\u001b[0;31mImportError\u001b[0m: cannot import name 'interp' from 'scipy' (/home/mira/Documents/uni/12th/data_mining/Data_Mining_project/myvenv/lib/python3.10/site-packages/scipy/__init__.py)"
     ]
    }
   ],
   "source": [
    "import scikitplot as skplt\n",
    "import matplotlib.pyplot as plt\n",
    "\n",
    "skplt.metrics.plot_roc_curve(y_test, y_pred)\n",
    "plt.show()"
   ]
  },
  {
   "cell_type": "code",
   "execution_count": null,
   "id": "b7d08ffe-e8b5-4e9b-80d7-1554c8e19d43",
   "metadata": {},
   "outputs": [],
   "source": []
  }
 ],
 "metadata": {
  "kernelspec": {
   "display_name": "Python 3 (ipykernel)",
   "language": "python",
   "name": "python3"
  },
  "language_info": {
   "codemirror_mode": {
    "name": "ipython",
    "version": 3
   },
   "file_extension": ".py",
   "mimetype": "text/x-python",
   "name": "python",
   "nbconvert_exporter": "python",
   "pygments_lexer": "ipython3",
   "version": "3.10.12"
  }
 },
 "nbformat": 4,
 "nbformat_minor": 5
}
